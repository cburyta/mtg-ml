{
 "cells": [
  {
   "cell_type": "markdown",
   "metadata": {},
   "source": [
    "# Card vectorization\n",
    "## Introduction\n",
    "In this notebook we will show howto vectorize cards in 3 ways:\n",
    "1. Bag of Words\n",
    "2. Tf-idf\n",
    "3. Custom word2vec"
   ]
  },
  {
   "cell_type": "markdown",
   "metadata": {},
   "source": [
    "## Preparation\n",
    "Execute `python -m spacy download en_core_web_sm` on the command line to install the English language module and import the libraries:"
   ]
  },
  {
   "cell_type": "code",
   "execution_count": 17,
   "metadata": {},
   "outputs": [],
   "source": [
    "import psycopg2, re, string, gzip\n",
    "from numpy import array, mean\n",
    "from numpy.random import choice\n",
    "from os import listdir\n",
    "from os.path import join\n",
    "from spacy import load\n",
    "from spacy.lang.en.stop_words import STOP_WORDS\n",
    "from sklearn.feature_extraction.text import CountVectorizer, TfidfTransformer\n",
    "from sklearn.model_selection import train_test_split\n",
    "from sklearn.pipeline import Pipeline\n",
    "from gensim.test.utils import common_texts, get_tmpfile\n",
    "from gensim.models import Word2Vec\n",
    "from random import shuffle"
   ]
  },
  {
   "cell_type": "markdown",
   "metadata": {},
   "source": [
    "## Loading the data\n",
    "I load it from a loacal Postgres DB where `mtg_local.sql.zip` has been loaded since `docker-compose run --rm db-util yarn initialize` doesn't work by me..."
   ]
  },
  {
   "cell_type": "code",
   "execution_count": 2,
   "metadata": {},
   "outputs": [],
   "source": [
    "conn = psycopg2.connect(database=\"mtg\", user=\"postgres\", password=\"postgres\", port=5432, host='localhost')\n",
    "cur = conn.cursor()\n",
    "cur.execute(\"select oracle_id, name, type_line, oracle_text from cards where exists (select 1 from jsonb_each_text(cards.legalities) j where j.value not like '%not_legal%') and lang='en';\")\n",
    "\n",
    "cards = []\n",
    "card = cur.fetchone()\n",
    " \n",
    "while card is not None:\n",
    "    card = cur.fetchone()\n",
    "    cards.append(card)\n",
    " \n",
    "cur.close()\n",
    "\n",
    "cards = cards[:-1]"
   ]
  },
  {
   "cell_type": "markdown",
   "metadata": {},
   "source": [
    "## Preprocessing"
   ]
  },
  {
   "cell_type": "markdown",
   "metadata": {},
   "source": [
    "### joining the cards with their tag"
   ]
  },
  {
   "cell_type": "code",
   "execution_count": 3,
   "metadata": {},
   "outputs": [],
   "source": [
    "PATH_TAGS = join(*['..', '..', 'data', 'cards-tags'])\n",
    "\n",
    "oracleid2tag = {}\n",
    "for filename in listdir(PATH_TAGS):\n",
    "    tag_name = filename.split('.')[0]\n",
    "    with open(join(PATH_TAGS, filename), 'r') as file:\n",
    "        for i, line in enumerate(file):\n",
    "            if i == 0:  # drop the first line of the file, because it just contains the header\n",
    "                continue\n",
    "            oracleid2tag[line[:-1]] = tag_name  # the last character in carriage return, remove"
   ]
  },
  {
   "cell_type": "markdown",
   "metadata": {},
   "source": [
    "how many from the cards we fetched from the DB have a tag?"
   ]
  },
  {
   "cell_type": "code",
   "execution_count": 4,
   "metadata": {},
   "outputs": [
    {
     "name": "stdout",
     "output_type": "stream",
     "text": [
      "3370/46147 cards tagged\n"
     ]
    }
   ],
   "source": [
    "tagged_cards_id = list(set(oracleid2tag.keys()) & set(card[0] for card in cards))\n",
    "print(f'{len(tagged_cards_id)}/{len(cards)} cards tagged')"
   ]
  },
  {
   "cell_type": "markdown",
   "metadata": {},
   "source": [
    "We preprocess the cards by joining their `name`, `type_line` and `oracle_text`, extracting the words, removing the punctuation and the stop words:"
   ]
  },
  {
   "cell_type": "code",
   "execution_count": 5,
   "metadata": {},
   "outputs": [],
   "source": [
    "def preprocess_card(card, all=True):\n",
    "    \"\"\" if all the fields (True) or just the 'oracle_text' (False) is considered\"\"\"\n",
    "    first_field = 1 if all else 3\n",
    "    card = (c[first_field:] for c in card if c is not None)\n",
    "    card = ' '.join(card)\n",
    "    card = re.split(r'\\W+', card)\n",
    "    # Remove punctuation\n",
    "    table = str.maketrans('', '', string.punctuation)\n",
    "    card = [word.translate(table) for word in card]\n",
    "    # To lower case\n",
    "    card = [word.lower() for word in card if word != '']\n",
    "    # Remove stopwords\n",
    "    card = list(set(card) - STOP_WORDS)\n",
    "    card = ' '.join(card)\n",
    "    return card"
   ]
  },
  {
   "cell_type": "code",
   "execution_count": 6,
   "metadata": {},
   "outputs": [],
   "source": [
    "preprocessed_cards = {}\n",
    "for card in cards:\n",
    "    if card is None:\n",
    "        continue\n",
    "    id = card[0]\n",
    "    card = preprocess_card(card)\n",
    "    preprocessed_cards[id] = card"
   ]
  },
  {
   "cell_type": "markdown",
   "metadata": {},
   "source": [
    "## Vectorization\n",
    "We will vectorize the cards through 3 distinct methods: bag of words, Tf-Idf and word2vec. For bag of words and tf-idf, the pipeline is roughly 1. train/test split, 2. fit on train 3. predict on test. For word2vec it's more free.\n",
    "### Bag of words"
   ]
  },
  {
   "cell_type": "code",
   "execution_count": 7,
   "metadata": {},
   "outputs": [
    {
     "name": "stdout",
     "output_type": "stream",
     "text": [
      "(19279, 85166)\n"
     ]
    }
   ],
   "source": [
    "count_vect = CountVectorizer()\n",
    "X_train_counts = count_vect.fit_transform(preprocessed_cards.values())\n",
    "\n",
    "print(X_train_counts.shape)"
   ]
  },
  {
   "cell_type": "markdown",
   "metadata": {},
   "source": [
    "### Tf-Idf\n",
    "Tf-Idf is applied on the bag of word vectorization computed above:"
   ]
  },
  {
   "cell_type": "code",
   "execution_count": 8,
   "metadata": {},
   "outputs": [
    {
     "name": "stdout",
     "output_type": "stream",
     "text": [
      "(19279, 85166)\n"
     ]
    }
   ],
   "source": [
    "tf_transformer = TfidfTransformer(use_idf=False).fit(X_train_counts)\n",
    "X_train_tf = tf_transformer.transform(X_train_counts)\n",
    "\n",
    "print(X_train_tf.shape)"
   ]
  },
  {
   "cell_type": "markdown",
   "metadata": {},
   "source": [
    "### word2vec\n",
    "*word2vec* is a method to represent words by vectors such that their cosine proximity reflects their semantic similarity (simpler: the closer the meaning of 2 words, the closer their vectors). There exists already files containing word2vec vectors for English words trained on large corpora. Here we will train a word2vec representation of the words in the cards based on the text in the cards. So we get a fully customized word2vec representation for *MGT*:"
   ]
  },
  {
   "cell_type": "code",
   "execution_count": 13,
   "metadata": {},
   "outputs": [],
   "source": [
    "path = get_tmpfile(\"./data/word2vec.model\")\n",
    "\n",
    "model = Word2Vec(preprocessed_cards, size=100, window=5, min_count=1, workers=4)\n",
    "model.wv.save_word2vec_format(\"../../data/word2vec.txt\")\n",
    "\n",
    "# gzip the model\n",
    "f_in = open('../../data/word2vec.txt', 'rb')\n",
    "f_out = gzip.open('../../data/word2vec.txt.gz', 'wb')\n",
    "f_out.writelines(f_in)\n",
    "f_out.close()\n",
    "f_in.close()"
   ]
  },
  {
   "cell_type": "markdown",
   "metadata": {},
   "source": [
    "create model by executing `python3.6 -m spacy init-model en ./data/spacy.word2vec.model --vectors-loc data/word2vec.txt.gz` on the command line.\n",
    "\n",
    "Result:\n",
    "\n",
    "```\n",
    "✔ Successfully created model\n",
    "33it [00:00, 15872.94it/s]a/word2vec.txt.gz\n",
    "✔ Loaded vectors from data/word2vec.txt.gz\n",
    "✔ Sucessfully compiled vocab\n",
    "499 entries, 33 vectors\n",
    "\n",
    "```\n",
    "`"
   ]
  },
  {
   "cell_type": "markdown",
   "metadata": {},
   "source": [
    "And vectorize the cards:"
   ]
  },
  {
   "cell_type": "code",
   "execution_count": 14,
   "metadata": {},
   "outputs": [],
   "source": [
    "nlp_mtg = load('../../data/spacy.word2vec.model')\n",
    "card_vectors = []\n",
    "for preprocessed_card in preprocessed_cards:\n",
    "    card_vector = nlp_mtg(preprocessed_card)\n",
    "    card_vectors.append(card_vector)"
   ]
  },
  {
   "cell_type": "markdown",
   "metadata": {},
   "source": [
    "## Modelization"
   ]
  },
  {
   "cell_type": "code",
   "execution_count": 9,
   "metadata": {},
   "outputs": [],
   "source": [
    "tag2label = {tag: i for i, tag in enumerate(list(set(oracleid2tag.values())))}\n",
    "\n",
    "X = [preprocessed_cards[card_id] for card_id in tagged_cards_id]\n",
    "y = [tag2label[oracleid2tag[card_id]] for card_id in tagged_cards_id]"
   ]
  },
  {
   "cell_type": "code",
   "execution_count": 10,
   "metadata": {},
   "outputs": [],
   "source": [
    "X_train, X_test, y_train, y_test = train_test_split(X, y, test_size=0.33, random_state=7)"
   ]
  },
  {
   "cell_type": "markdown",
   "metadata": {},
   "source": [
    "Define a pipeline bag-of-words => tf-idf => classifier"
   ]
  },
  {
   "cell_type": "code",
   "execution_count": 11,
   "metadata": {},
   "outputs": [],
   "source": [
    "from sklearn.naive_bayes import MultinomialNB\n",
    "\n",
    "text_clf = Pipeline([\n",
    "     ('vect', CountVectorizer()),\n",
    "     ('tfidf', TfidfTransformer()),\n",
    "     ('clf', MultinomialNB()),\n",
    "])"
   ]
  },
  {
   "cell_type": "markdown",
   "metadata": {},
   "source": [
    "Fit it on the train data:"
   ]
  },
  {
   "cell_type": "code",
   "execution_count": 12,
   "metadata": {},
   "outputs": [
    {
     "data": {
      "text/plain": [
       "Pipeline(memory=None,\n",
       "         steps=[('vect',\n",
       "                 CountVectorizer(analyzer='word', binary=False,\n",
       "                                 decode_error='strict',\n",
       "                                 dtype=<class 'numpy.int64'>, encoding='utf-8',\n",
       "                                 input='content', lowercase=True, max_df=1.0,\n",
       "                                 max_features=None, min_df=1,\n",
       "                                 ngram_range=(1, 1), preprocessor=None,\n",
       "                                 stop_words=None, strip_accents=None,\n",
       "                                 token_pattern='(?u)\\\\b\\\\w\\\\w+\\\\b',\n",
       "                                 tokenizer=None, vocabulary=None)),\n",
       "                ('tfidf',\n",
       "                 TfidfTransformer(norm='l2', smooth_idf=True,\n",
       "                                  sublinear_tf=False, use_idf=True)),\n",
       "                ('clf',\n",
       "                 MultinomialNB(alpha=1.0, class_prior=None, fit_prior=True))],\n",
       "         verbose=False)"
      ]
     },
     "execution_count": 12,
     "metadata": {},
     "output_type": "execute_result"
    }
   ],
   "source": [
    "text_clf.fit(X_train, y_train)"
   ]
  },
  {
   "cell_type": "code",
   "execution_count": 13,
   "metadata": {},
   "outputs": [
    {
     "name": "stdout",
     "output_type": "stream",
     "text": [
      "56.51% of the cards in the test data correctly classified\n"
     ]
    }
   ],
   "source": [
    "predicted = text_clf.predict(X_test)\n",
    "perf = mean(predicted == y_test)\n",
    "\n",
    "print(f'{round(100 * perf, 2)}% of the cards in the test data correctly classified')"
   ]
  },
  {
   "cell_type": "markdown",
   "metadata": {},
   "source": [
    "What is the baseline (the performance if we classify the cards randomly)?"
   ]
  },
  {
   "cell_type": "code",
   "execution_count": 20,
   "metadata": {},
   "outputs": [
    {
     "name": "stdout",
     "output_type": "stream",
     "text": [
      "baseline: random performance: 16.67%\n"
     ]
    }
   ],
   "source": [
    "labels = list(tag2label.values())\n",
    "random_perfs = []\n",
    "for _ in range(1000):\n",
    "    predicted_random = choice(labels, size=len(y_test))\n",
    "    random_perf = mean(predicted_random == y_test)\n",
    "    random_perfs.append(random_perf)\n",
    "random_baseline = mean(random_perfs)\n",
    "\n",
    "print(f'baseline: random performance: {round(100 * random_baseline, 2)}%')"
   ]
  },
  {
   "cell_type": "markdown",
   "metadata": {},
   "source": [
    "**TODO**\n",
    "1. Train to tune the model in various ways (preprocess the cards with `all=False` or `all=True`, try systematically different hyperparemeters for the vectorizer, tf-idf, try different classifiers with different classifiers)\n",
    "2. Diagnostic: which cards are misclassified? Why?\n",
    "3. Try modelization with word2vec vectors"
   ]
  },
  {
   "cell_type": "code",
   "execution_count": null,
   "metadata": {},
   "outputs": [],
   "source": []
  }
 ],
 "metadata": {
  "kernelspec": {
   "display_name": "Python 3",
   "language": "python",
   "name": "python3"
  },
  "language_info": {
   "codemirror_mode": {
    "name": "ipython",
    "version": 3
   },
   "file_extension": ".py",
   "mimetype": "text/x-python",
   "name": "python",
   "nbconvert_exporter": "python",
   "pygments_lexer": "ipython3",
   "version": "3.6.8"
  }
 },
 "nbformat": 4,
 "nbformat_minor": 2
}
