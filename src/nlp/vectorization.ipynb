{
 "cells": [
  {
   "cell_type": "markdown",
   "metadata": {},
   "source": [
    "# Card vectorization\n",
    "## Introduction\n",
    "In this notebook we will show howto vectorize cards in 3 ways:\n",
    "1. Bag of Words\n",
    "2. Tf-idf\n",
    "3. Custom word2vec\n",
    "\n",
    "We will show it along 100 cards (it's the same with all the cards, just much longer)"
   ]
  },
  {
   "cell_type": "markdown",
   "metadata": {},
   "source": [
    "## Preparation\n",
    "Execute `python -m spacy download en_core_web_sm` on the command line to install the English language module and import the libraries:"
   ]
  },
  {
   "cell_type": "code",
   "execution_count": 10,
   "metadata": {},
   "outputs": [],
   "source": [
    "import psycopg2, re, string, gzip\n",
    "from spacy import load\n",
    "from spacy.lang.en.stop_words import STOP_WORDS\n",
    "from sklearn.feature_extraction.text import CountVectorizer, TfidfTransformer\n",
    "from gensim.test.utils import common_texts, get_tmpfile\n",
    "from gensim.models import Word2Vec"
   ]
  },
  {
   "cell_type": "markdown",
   "metadata": {},
   "source": [
    "## Loading the data\n",
    "I load it from a loacal Postgres DB where `mtg_local.sql.zip` has been loaded since `docker-compose run --rm db-util yarn initialize` doesn't work by me..."
   ]
  },
  {
   "cell_type": "code",
   "execution_count": 11,
   "metadata": {},
   "outputs": [],
   "source": [
    "conn = psycopg2.connect(database=\"mtg\", user=\"postgres\", password=\"postgres\", port=5432, host='localhost')\n",
    "cur = conn.cursor()\n",
    "cur.execute(\"select name,type_line,oracle_text from cards where exists( select 1 from jsonb_each_text(cards.legalities) j where j.value not like '%not_legal%') and lang='en' limit 100;\")\n",
    "\n",
    "cards = []\n",
    "card = cur.fetchone()\n",
    " \n",
    "while card is not None:\n",
    "    card = cur.fetchone()\n",
    "    cards.append(card)\n",
    " \n",
    "cur.close()"
   ]
  },
  {
   "cell_type": "markdown",
   "metadata": {},
   "source": [
    "## Preprocessing"
   ]
  },
  {
   "cell_type": "markdown",
   "metadata": {},
   "source": [
    "We preprocess the cards by joining their `name`, `type_line` and `oracle_text`, extracting the words, removing the punctuation and the stop words:"
   ]
  },
  {
   "cell_type": "code",
   "execution_count": 12,
   "metadata": {},
   "outputs": [],
   "source": [
    "def preprocess_card(card):\n",
    "    card = ' '.join(card)\n",
    "    card = re.split(r'\\W+', card)\n",
    "    # Remove punctuation\n",
    "    table = str.maketrans('', '', string.punctuation)\n",
    "    card = [word.translate(table) for word in card]\n",
    "    # To lower case\n",
    "    card = [word.lower() for word in card if word != '']\n",
    "    # Remove stopwords\n",
    "    card = list(set(card) - STOP_WORDS)\n",
    "    card = ' '.join(card)\n",
    "    return card"
   ]
  },
  {
   "cell_type": "code",
   "execution_count": 13,
   "metadata": {},
   "outputs": [],
   "source": [
    "preprocessed_cards = []\n",
    "for card in cards:\n",
    "    if card is None:\n",
    "        continue\n",
    "    card = preprocess_card(card)\n",
    "    preprocessed_cards.append(card)"
   ]
  },
  {
   "cell_type": "markdown",
   "metadata": {},
   "source": [
    "## Vectorization\n",
    "We will vectorize the cards through 3 distinct methods: bag of words, Tf-Idf and word2vec. For bag of words and tf-idf, the pipeline is roughly 1. train/test split, 2. fit on train 3. predict on test. For word2vec it's more free.\n",
    "### Bag of words"
   ]
  },
  {
   "cell_type": "code",
   "execution_count": 14,
   "metadata": {},
   "outputs": [
    {
     "name": "stdout",
     "output_type": "stream",
     "text": [
      "(99, 329)\n"
     ]
    }
   ],
   "source": [
    "count_vect = CountVectorizer()\n",
    "X_train_counts = count_vect.fit_transform(preprocessed_cards)\n",
    "\n",
    "print(X_train_counts.shape)"
   ]
  },
  {
   "cell_type": "markdown",
   "metadata": {},
   "source": [
    "### Tf-Idf\n",
    "Tf-Idf is applied on the bag of word vectorization computed above:"
   ]
  },
  {
   "cell_type": "code",
   "execution_count": 15,
   "metadata": {},
   "outputs": [
    {
     "name": "stdout",
     "output_type": "stream",
     "text": [
      "(99, 329)\n"
     ]
    }
   ],
   "source": [
    "tf_transformer = TfidfTransformer(use_idf=False).fit(X_train_counts)\n",
    "X_train_tf = tf_transformer.transform(X_train_counts)\n",
    "\n",
    "print(X_train_tf.shape)"
   ]
  },
  {
   "cell_type": "markdown",
   "metadata": {},
   "source": [
    "## word2vec\n",
    "*word2vec* is a method to represent words by vectors such that their cosine proximity reflects their semantic similarity (simpler: the closer the meaning of 2 words, the closer their vectors). There exists already files containing word2vec vectors for English words trained on large corpora. Here we will train a word2vec representation of the words in the cards based on the text in the cards. So we get a fully customized word2vec representation for *MGT*:"
   ]
  },
  {
   "cell_type": "code",
   "execution_count": 16,
   "metadata": {},
   "outputs": [],
   "source": [
    "path = get_tmpfile(\"./data/word2vec.model\")\n",
    "\n",
    "model = Word2Vec(preprocessed_cards, size=100, window=5, min_count=1, workers=4)\n",
    "model.wv.save_word2vec_format(\"../../data/word2vec.txt\")\n",
    "\n",
    "# gzip the model\n",
    "f_in = open('../../data/word2vec.txt', 'rb')\n",
    "f_out = gzip.open('../../data/word2vec.txt.gz', 'wb')\n",
    "f_out.writelines(f_in)\n",
    "f_out.close()\n",
    "f_in.close()"
   ]
  },
  {
   "cell_type": "markdown",
   "metadata": {},
   "source": [
    "create model by executing `python3.6 -m spacy init-model en ./data/spacy.word2vec.model --vectors-loc data/word2vec.txt.gz` on the command line.\n",
    "\n",
    "Result:\n",
    "\n",
    "```\n",
    "✔ Successfully created model\n",
    "33it [00:00, 15872.94it/s]a/word2vec.txt.gz\n",
    "✔ Loaded vectors from data/word2vec.txt.gz\n",
    "✔ Sucessfully compiled vocab\n",
    "499 entries, 33 vectors\n",
    "\n",
    "```\n",
    "`"
   ]
  },
  {
   "cell_type": "markdown",
   "metadata": {},
   "source": [
    "And vectorize the cards:"
   ]
  },
  {
   "cell_type": "code",
   "execution_count": 9,
   "metadata": {},
   "outputs": [],
   "source": [
    "nlp_mtg = load('../../data/spacy.word2vec.model')\n",
    "card_vectors = []\n",
    "for preprocessed_card in preprocessed_cards:\n",
    "    card_vector = nlp_mtg(preprocessed_card)\n",
    "    card_vectors.append(card_vector)"
   ]
  }
 ],
 "metadata": {
  "kernelspec": {
   "display_name": "Python 3",
   "language": "python",
   "name": "python3"
  },
  "language_info": {
   "codemirror_mode": {
    "name": "ipython",
    "version": 3
   },
   "file_extension": ".py",
   "mimetype": "text/x-python",
   "name": "python",
   "nbconvert_exporter": "python",
   "pygments_lexer": "ipython3",
   "version": "3.6.8"
  }
 },
 "nbformat": 4,
 "nbformat_minor": 2
}
